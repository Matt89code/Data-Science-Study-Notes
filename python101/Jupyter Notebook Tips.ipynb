{
 "cells": [
  {
   "cell_type": "markdown",
   "id": "9ab69e49",
   "metadata": {},
   "source": [
    "# Juypter Notebook tips"
   ]
  },
  {
   "cell_type": "code",
   "execution_count": 1,
   "id": "a4cab145",
   "metadata": {},
   "outputs": [],
   "source": [
    "import datetime"
   ]
  },
  {
   "cell_type": "code",
   "execution_count": 2,
   "id": "8b4aaed3",
   "metadata": {},
   "outputs": [],
   "source": [
    "# datetime.<TAB>   \n",
    "\n",
    "#this will return a list of methods in a module (datetime being a module)"
   ]
  },
  {
   "cell_type": "code",
   "execution_count": 4,
   "id": "708d5131",
   "metadata": {},
   "outputs": [],
   "source": [
    "b = [1 ,2 , 3]\n",
    "\n",
    "#b.<tab>  # this then returns all the options for a list"
   ]
  },
  {
   "cell_type": "code",
   "execution_count": 5,
   "id": "fb7c23ed",
   "metadata": {},
   "outputs": [],
   "source": [
    "b?\n",
    "# after defining a varible, type the varible with a ? to return general information. "
   ]
  },
  {
   "cell_type": "code",
   "execution_count": 8,
   "id": "0044c368",
   "metadata": {},
   "outputs": [],
   "source": [
    "def b(x):\n",
    "    g = []\n",
    "    g.append(x)\n",
    "    \n",
    "    return g\n"
   ]
  },
  {
   "cell_type": "code",
   "execution_count": 9,
   "id": "423e541c",
   "metadata": {},
   "outputs": [],
   "source": [
    "b??\n",
    "# using double ?? on a function returns information regarding that function"
   ]
  },
  {
   "cell_type": "code",
   "execution_count": 11,
   "id": "22d775a1",
   "metadata": {},
   "outputs": [],
   "source": [
    "# >>> %load test.py\n",
    "\n",
    "#this would load a python file source code into your working juypter notebook"
   ]
  },
  {
   "cell_type": "code",
   "execution_count": null,
   "id": "373ae317",
   "metadata": {},
   "outputs": [],
   "source": [
    "#ctrl + C -wil"
   ]
  }
 ],
 "metadata": {
  "kernelspec": {
   "display_name": "Python 3 (ipykernel)",
   "language": "python",
   "name": "python3"
  },
  "language_info": {
   "codemirror_mode": {
    "name": "ipython",
    "version": 3
   },
   "file_extension": ".py",
   "mimetype": "text/x-python",
   "name": "python",
   "nbconvert_exporter": "python",
   "pygments_lexer": "ipython3",
   "version": "3.8.12"
  },
  "toc": {
   "base_numbering": 1,
   "nav_menu": {},
   "number_sections": true,
   "sideBar": true,
   "skip_h1_title": false,
   "title_cell": "Table of Contents",
   "title_sidebar": "Contents",
   "toc_cell": false,
   "toc_position": {},
   "toc_section_display": true,
   "toc_window_display": false
  }
 },
 "nbformat": 4,
 "nbformat_minor": 5
}

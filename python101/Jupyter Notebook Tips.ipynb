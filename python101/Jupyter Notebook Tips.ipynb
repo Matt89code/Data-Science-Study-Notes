{
 "cells": [
  {
   "cell_type": "markdown",
   "id": "b8ff4f36",
   "metadata": {},
   "source": [
    "# Juypter Notebook tips"
   ]
  },
  {
   "cell_type": "code",
   "execution_count": 1,
   "id": "d770f0d9",
   "metadata": {},
   "outputs": [],
   "source": [
    "import datetime"
   ]
  },
  {
   "cell_type": "code",
   "execution_count": 2,
   "id": "f0ca7fb5",
   "metadata": {},
   "outputs": [],
   "source": [
    "# datetime.<TAB>   \n",
    "\n",
    "#this will return a list of methods in a module (datetime being a module)"
   ]
  },
  {
   "cell_type": "code",
   "execution_count": 4,
   "id": "18c439bf",
   "metadata": {},
   "outputs": [],
   "source": [
    "b = [1 ,2 , 3]\n",
    "\n",
    "#b.<tab>  # this then returns all the options for a list"
   ]
  },
  {
   "cell_type": "code",
   "execution_count": 5,
   "id": "2d9c0583",
   "metadata": {},
   "outputs": [],
   "source": [
    "b?\n",
    "# after defining a varible, type the varible with a ? to return general information. "
   ]
  },
  {
   "cell_type": "code",
   "execution_count": 8,
   "id": "62d91540",
   "metadata": {},
   "outputs": [],
   "source": [
    "def b(x):\n",
    "    g = []\n",
    "    g.append(x)\n",
    "    \n",
    "    return g\n"
   ]
  },
  {
   "cell_type": "code",
   "execution_count": 9,
   "id": "9ced696b",
   "metadata": {},
   "outputs": [],
   "source": [
    "b??\n",
    "# using double ?? on a function returns information regarding that function"
   ]
  },
  {
   "cell_type": "code",
   "execution_count": 11,
   "id": "ee16336a",
   "metadata": {},
   "outputs": [],
   "source": [
    "# >>> %load test.py\n",
    "\n",
    "#this would load a python file source code into your working juypter notebook"
   ]
  },
  {
   "cell_type": "code",
   "execution_count": 12,
   "id": "0bb185ce",
   "metadata": {},
   "outputs": [],
   "source": [
    "#ctrl + C -will interupt a running cell should the programme take a long time to execute of an infitiny loop running. "
   ]
  },
  {
   "cell_type": "code",
   "execution_count": 13,
   "id": "f4b211c7",
   "metadata": {},
   "outputs": [],
   "source": [
    "# Python uses whitespaces (tabs not braces) to structure code instead of using braces as in R,C++,Java,Perl "
   ]
  },
  {
   "cell_type": "code",
   "execution_count": 14,
   "id": "43fb1332",
   "metadata": {},
   "outputs": [],
   "source": [
    "# a Colon ; denotes start of an indented code block, where all code must be indented by the same amount until end of the block"
   ]
  },
  {
   "cell_type": "code",
   "execution_count": 15,
   "id": "4acf76de",
   "metadata": {},
   "outputs": [],
   "source": [
    "# Python statements does not need to be terminated by semi colon \n",
    "\n",
    "#but semi colon can be use to seperate multiple statements on a single link\n",
    "\n",
    "a = 5; x = 7; z = 8"
   ]
  },
  {
   "cell_type": "code",
   "execution_count": 17,
   "id": "a619decd",
   "metadata": {},
   "outputs": [
    {
     "data": {
      "text/plain": [
       "True"
      ]
     },
     "execution_count": 17,
     "metadata": {},
     "output_type": "execute_result"
    }
   ],
   "source": [
    "isinstance(a,int)\n",
    "#isinstance checks if the varible you define is the type questioned. returns binary T or F"
   ]
  },
  {
   "cell_type": "code",
   "execution_count": 23,
   "id": "fd065237",
   "metadata": {},
   "outputs": [],
   "source": [
    "# Objects in python typically have both attributes (objects stored inside an object) and\n",
    "# methods(functions associated with the object)\n",
    "# ie the syntax is object.attribute_name\n",
    "\n",
    "a = 'foo'\n",
    "# a.<tab> then list all the possible options for the object.\n",
    "\n",
    "# Or can use getattr function\n",
    "\n",
    "a1 = getattr(a, 'split')\n",
    "\n",
    "#other programming languages use this technique but is called 'reflection'"
   ]
  },
  {
   "cell_type": "code",
   "execution_count": 25,
   "id": "9b02f23a",
   "metadata": {},
   "outputs": [
    {
     "name": "stdout",
     "output_type": "stream",
     "text": [
      "foo\n",
      "<built-in method split of str object at 0x7f1aec9bacf0>\n"
     ]
    },
    {
     "data": {
      "text/plain": [
       "<function str.split(sep=None, maxsplit=-1)>"
      ]
     },
     "execution_count": 25,
     "metadata": {},
     "output_type": "execute_result"
    }
   ],
   "source": [
    "print(a)\n",
    "print(a1)\n",
    "a1"
   ]
  },
  {
   "cell_type": "markdown",
   "id": "e7ad940d",
   "metadata": {},
   "source": [
    "## Importing .py files"
   ]
  },
  {
   "cell_type": "code",
   "execution_count": 26,
   "id": "4c3bd9f9",
   "metadata": {},
   "outputs": [],
   "source": [
    "#importing varibles and functions from another python file \n",
    "# python files have the extension .py \n",
    "\n",
    "# import <python_file_name> \n",
    "\n",
    "# or\n",
    "\n",
    "# from <python_file_name> import <varibles_functions_names>\n",
    "\n",
    "# or\n",
    "\n",
    "# from <python_file_name> import <varibles_functions_names> as <shorten_names> such at \n",
    "\n",
    "# Import Pandas as pd"
   ]
  },
  {
   "cell_type": "code",
   "execution_count": null,
   "id": "5b6406d0",
   "metadata": {},
   "outputs": [],
   "source": []
  }
 ],
 "metadata": {
  "kernelspec": {
   "display_name": "Python 3 (ipykernel)",
   "language": "python",
   "name": "python3"
  },
  "language_info": {
   "codemirror_mode": {
    "name": "ipython",
    "version": 3
   },
   "file_extension": ".py",
   "mimetype": "text/x-python",
   "name": "python",
   "nbconvert_exporter": "python",
   "pygments_lexer": "ipython3",
   "version": "3.8.12"
  },
  "toc": {
   "base_numbering": 1,
   "nav_menu": {},
   "number_sections": true,
   "sideBar": true,
   "skip_h1_title": false,
   "title_cell": "Table of Contents",
   "title_sidebar": "Contents",
   "toc_cell": false,
   "toc_position": {},
   "toc_section_display": true,
   "toc_window_display": false
  }
 },
 "nbformat": 4,
 "nbformat_minor": 5
}

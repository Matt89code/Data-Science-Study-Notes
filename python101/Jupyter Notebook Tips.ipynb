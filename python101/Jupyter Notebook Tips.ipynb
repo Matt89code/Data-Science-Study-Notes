{
 "cells": [
  {
   "cell_type": "markdown",
   "id": "350a30f3",
   "metadata": {},
   "source": [
    "# Juypter Notebook tips"
   ]
  },
  {
   "cell_type": "code",
   "execution_count": 1,
   "id": "e70fbd05",
   "metadata": {},
   "outputs": [],
   "source": [
    "import datetime"
   ]
  },
  {
   "cell_type": "code",
   "execution_count": 2,
   "id": "dc4cf823",
   "metadata": {},
   "outputs": [],
   "source": [
    "# datetime.<TAB>   \n",
    "\n",
    "#this will return a list of methods in a module (datetime being a module)"
   ]
  },
  {
   "cell_type": "code",
   "execution_count": 4,
   "id": "4b375244",
   "metadata": {},
   "outputs": [],
   "source": [
    "b = [1 ,2 , 3]\n",
    "\n",
    "#b.<tab>  # this then returns all the options for a list"
   ]
  },
  {
   "cell_type": "code",
   "execution_count": 5,
   "id": "a7913b24",
   "metadata": {},
   "outputs": [],
   "source": [
    "b?\n",
    "# after defining a varible, type the varible with a ? to return general information. "
   ]
  },
  {
   "cell_type": "code",
   "execution_count": null,
   "id": "c0afe39b",
   "metadata": {},
   "outputs": [],
   "source": []
  }
 ],
 "metadata": {
  "kernelspec": {
   "display_name": "Python 3 (ipykernel)",
   "language": "python",
   "name": "python3"
  },
  "language_info": {
   "codemirror_mode": {
    "name": "ipython",
    "version": 3
   },
   "file_extension": ".py",
   "mimetype": "text/x-python",
   "name": "python",
   "nbconvert_exporter": "python",
   "pygments_lexer": "ipython3",
   "version": "3.8.12"
  },
  "toc": {
   "base_numbering": 1,
   "nav_menu": {},
   "number_sections": true,
   "sideBar": true,
   "skip_h1_title": false,
   "title_cell": "Table of Contents",
   "title_sidebar": "Contents",
   "toc_cell": false,
   "toc_position": {},
   "toc_section_display": true,
   "toc_window_display": false
  }
 },
 "nbformat": 4,
 "nbformat_minor": 5
}

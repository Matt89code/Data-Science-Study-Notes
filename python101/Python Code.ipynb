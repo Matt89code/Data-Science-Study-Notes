{
 "cells": [
  {
   "cell_type": "markdown",
   "id": "4598c8f8",
   "metadata": {},
   "source": [
    "# Python Code"
   ]
  },
  {
   "cell_type": "markdown",
   "id": "e54ae587",
   "metadata": {},
   "source": [
    "## Tables of standarised operators "
   ]
  },
  {
   "cell_type": "code",
   "execution_count": 17,
   "id": "4363d95a",
   "metadata": {},
   "outputs": [
    {
     "data": {
      "text/plain": [
       "False"
      ]
     },
     "execution_count": 17,
     "metadata": {},
     "output_type": "execute_result"
    }
   ],
   "source": [
    "a= 1; b=2\n",
    "a + b #add a and b\n",
    "a - b #subtract b from a\n",
    "a * b #multiply a by b\n",
    "a / b #divide a by b\n",
    "a // b #floor-divide a by b, dropping any factional remainder\n",
    "a ** b #raise a to the b power\n",
    "a & b #True is both a and be are True, for intergers take the bitwise <and>\n",
    "a | b #True if either a or b is True, for intergers take the bitwise <or>\n",
    "a ^ b #For booleans, True if a or b is True , but not both, for intergers take the bitwise <exclusive -or>\n",
    "a == b #True if a equals b\n",
    "a != b #True if a does not equal b\n",
    "a <=b,a<b #True if a is less than (or equal to) b , > a being greater than b\n",
    "a is b #True if a and b reference the same python object (is not, referene different python objects)\n"
   ]
  },
  {
   "cell_type": "code",
   "execution_count": 8,
   "id": "38a11af4",
   "metadata": {},
   "outputs": [
    {
     "data": {
      "text/plain": [
       "2.5"
      ]
     },
     "execution_count": 8,
     "metadata": {},
     "output_type": "execute_result"
    }
   ],
   "source": [
    "5/2"
   ]
  },
  {
   "cell_type": "code",
   "execution_count": 9,
   "id": "23b58b67",
   "metadata": {},
   "outputs": [
    {
     "data": {
      "text/plain": [
       "2"
      ]
     },
     "execution_count": 9,
     "metadata": {},
     "output_type": "execute_result"
    }
   ],
   "source": [
    "5//2"
   ]
  },
  {
   "cell_type": "code",
   "execution_count": null,
   "id": "fd6f62a5",
   "metadata": {},
   "outputs": [],
   "source": []
  }
 ],
 "metadata": {
  "kernelspec": {
   "display_name": "Python 3 (ipykernel)",
   "language": "python",
   "name": "python3"
  },
  "language_info": {
   "codemirror_mode": {
    "name": "ipython",
    "version": 3
   },
   "file_extension": ".py",
   "mimetype": "text/x-python",
   "name": "python",
   "nbconvert_exporter": "python",
   "pygments_lexer": "ipython3",
   "version": "3.8.12"
  },
  "toc": {
   "base_numbering": 1,
   "nav_menu": {},
   "number_sections": true,
   "sideBar": true,
   "skip_h1_title": false,
   "title_cell": "Table of Contents",
   "title_sidebar": "Contents",
   "toc_cell": false,
   "toc_position": {},
   "toc_section_display": true,
   "toc_window_display": false
  }
 },
 "nbformat": 4,
 "nbformat_minor": 5
}

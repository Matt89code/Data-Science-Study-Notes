{
 "cells": [
  {
   "cell_type": "markdown",
   "id": "33fca4fd",
   "metadata": {},
   "source": [
    "# Juypter Notebook tips"
   ]
  },
  {
   "cell_type": "code",
   "execution_count": 1,
   "id": "58e14d3c",
   "metadata": {},
   "outputs": [],
   "source": [
    "import datetime"
   ]
  },
  {
   "cell_type": "code",
   "execution_count": 2,
   "id": "31072dd0",
   "metadata": {},
   "outputs": [],
   "source": [
    "# datetime.<TAB>   \n",
    "\n",
    "#this will return a list of methods in a module (datetime being a module)"
   ]
  },
  {
   "cell_type": "code",
   "execution_count": 4,
   "id": "33f166b1",
   "metadata": {},
   "outputs": [],
   "source": [
    "b = [1 ,2 , 3]\n",
    "\n",
    "#b.<tab>  # this then returns all the options for a list"
   ]
  },
  {
   "cell_type": "code",
   "execution_count": 5,
   "id": "849c0e5b",
   "metadata": {},
   "outputs": [],
   "source": [
    "b?\n",
    "# after defining a varible, type the varible with a ? to return general information. "
   ]
  },
  {
   "cell_type": "code",
   "execution_count": 8,
   "id": "86a953dd",
   "metadata": {},
   "outputs": [],
   "source": [
    "def b(x):\n",
    "    g = []\n",
    "    g.append(x)\n",
    "    \n",
    "    return g\n"
   ]
  },
  {
   "cell_type": "code",
   "execution_count": 9,
   "id": "275126b7",
   "metadata": {},
   "outputs": [],
   "source": [
    "b??\n",
    "# using double ?? on a function returns information regarding that function"
   ]
  },
  {
   "cell_type": "code",
   "execution_count": 11,
   "id": "3de9f202",
   "metadata": {},
   "outputs": [],
   "source": [
    "# >>> %load test.py\n",
    "\n",
    "#this would load a python file source code into your working juypter notebook"
   ]
  },
  {
   "cell_type": "code",
   "execution_count": 12,
   "id": "e9b82624",
   "metadata": {},
   "outputs": [],
   "source": [
    "#ctrl + C -will interupt a running cell should the programme take a long time to execute of an infitiny loop running. "
   ]
  },
  {
   "cell_type": "code",
   "execution_count": 13,
   "id": "499e9c3d",
   "metadata": {},
   "outputs": [],
   "source": [
    "# Python uses whitespaces (tabs not braces) to structure code instead of using braces as in R,C++,Java,Perl "
   ]
  },
  {
   "cell_type": "code",
   "execution_count": 14,
   "id": "aff1912b",
   "metadata": {},
   "outputs": [],
   "source": [
    "# a Colon ; denotes start of an indented code block, where all code must be indented by the same amount until end of the block"
   ]
  },
  {
   "cell_type": "code",
   "execution_count": 15,
   "id": "d05b057e",
   "metadata": {},
   "outputs": [],
   "source": [
    "# Python statements does not need to be terminated by semi colon \n",
    "\n",
    "#but semi colon can be use to seperate multiple statements on a single link\n",
    "\n",
    "a = 5; x = 7; z = 8"
   ]
  },
  {
   "cell_type": "code",
   "execution_count": null,
   "id": "5280f7b3",
   "metadata": {},
   "outputs": [],
   "source": []
  }
 ],
 "metadata": {
  "kernelspec": {
   "display_name": "Python 3 (ipykernel)",
   "language": "python",
   "name": "python3"
  },
  "language_info": {
   "codemirror_mode": {
    "name": "ipython",
    "version": 3
   },
   "file_extension": ".py",
   "mimetype": "text/x-python",
   "name": "python",
   "nbconvert_exporter": "python",
   "pygments_lexer": "ipython3",
   "version": "3.8.12"
  },
  "toc": {
   "base_numbering": 1,
   "nav_menu": {},
   "number_sections": true,
   "sideBar": true,
   "skip_h1_title": false,
   "title_cell": "Table of Contents",
   "title_sidebar": "Contents",
   "toc_cell": false,
   "toc_position": {},
   "toc_section_display": true,
   "toc_window_display": false
  }
 },
 "nbformat": 4,
 "nbformat_minor": 5
}
